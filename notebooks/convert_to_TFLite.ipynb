{
 "cells": [
  {
   "cell_type": "code",
   "execution_count": 1,
   "id": "eeff9284-4508-4a2d-b090-ddf88d758a89",
   "metadata": {},
   "outputs": [],
   "source": [
    "# bring the cwd to the main folder\n",
    "import os\n",
    "path_parent = os.path.dirname(os.getcwd())\n",
    "os.chdir(path_parent)"
   ]
  },
  {
   "cell_type": "code",
   "execution_count": 2,
   "id": "07372dc3-5f7a-4a6d-8634-3f0738447ded",
   "metadata": {},
   "outputs": [],
   "source": [
    "import tensorflow as tf\n",
    "from tensorflow import saved_model\n",
    "import numpy as np\n",
    "import pandas as pd\n",
    "from matplotlib import pyplot as plt"
   ]
  },
  {
   "cell_type": "code",
   "execution_count": 3,
   "id": "72070e7e-cc93-44b0-94d8-e2b1ee78d345",
   "metadata": {},
   "outputs": [],
   "source": [
    "from tf_agents.environments import tf_py_environment"
   ]
  },
  {
   "cell_type": "code",
   "execution_count": 4,
   "id": "376e8bab-8083-4e95-8cc6-9a4bb9e8f4dc",
   "metadata": {},
   "outputs": [
    {
     "name": "stdout",
     "output_type": "stream",
     "text": [
      "2.8.0\n"
     ]
    }
   ],
   "source": [
    "print(tf.__version__)"
   ]
  },
  {
   "cell_type": "code",
   "execution_count": 5,
   "id": "167a9cbc-168c-41d0-97aa-2df1a99fdda2",
   "metadata": {},
   "outputs": [],
   "source": [
    "AGENT_ID  = 'TFLite_conversion'\n"
   ]
  },
  {
   "cell_type": "code",
   "execution_count": 6,
   "id": "086333f7-7b8a-4b1c-8142-a6745f8a3ad7",
   "metadata": {},
   "outputs": [],
   "source": [
    "def load_policy(agent_id, agent_dir ='agent_checkpoints/'):\n",
    "    policy_dir = os.path.join(os.getcwd(), agent_dir + agent_id)\n",
    "    print(policy_dir)\n",
    "    policy = saved_model.load(policy_dir)\n",
    "    return policy"
   ]
  },
  {
   "cell_type": "code",
   "execution_count": 7,
   "id": "bdde487a-6b4c-4d07-a59f-d107668faef7",
   "metadata": {},
   "outputs": [
    {
     "name": "stdout",
     "output_type": "stream",
     "text": [
      "/home/thinh/Sync/python-projects/echo_gym/echo_gym/bat_snake_env/agent_checkpoints/TFLite_conversion\n"
     ]
    }
   ],
   "source": [
    "policy = load_policy(AGENT_ID)"
   ]
  },
  {
   "cell_type": "code",
   "execution_count": 11,
   "id": "25e115fd-5826-4069-9c15-1b2a8c4dccd7",
   "metadata": {},
   "outputs": [],
   "source": [
    "def load_policy_lite(agent_id, agent_dir ='agent_checkpoints/'):\n",
    "    policy_dir = os.path.join(os.getcwd(), agent_dir + agent_id)\n",
    "    print(policy_dir)\n",
    "    converter = tf.lite.TFLiteConverter.from_saved_model(policy_dir) # path to the SavedModel directory\n",
    "    converter.target_spec.supported_ops = [\n",
    "    tf.lite.OpsSet.TFLITE_BUILTINS, # enable TensorFlow Lite ops.\n",
    "    tf.lite.OpsSet.SELECT_TF_OPS # enable TensorFlow ops\n",
    "    ]\n",
    "    policy_lite = converter.convert()\n",
    "    return policy_lite"
   ]
  },
  {
   "cell_type": "code",
   "execution_count": 12,
   "id": "5646407f-a8cb-4a37-a0a0-11bff5b8307d",
   "metadata": {},
   "outputs": [
    {
     "name": "stdout",
     "output_type": "stream",
     "text": [
      "/home/thinh/Sync/python-projects/echo_gym/echo_gym/bat_snake_env/agent_checkpoints/TFLite_conversion\n"
     ]
    }
   ],
   "source": [
    "policy_lite = load_policy_lite(AGENT_ID)"
   ]
  },
  {
   "cell_type": "code",
   "execution_count": 21,
   "id": "724be617-fd2c-4a02-96e2-e40f48e7324c",
   "metadata": {},
   "outputs": [
    {
     "data": {
      "text/plain": [
       "224456"
      ]
     },
     "execution_count": 21,
     "metadata": {},
     "output_type": "execute_result"
    }
   ],
   "source": [
    "open('lite_policy.tflite', 'wb').write(policy_lite)"
   ]
  },
  {
   "cell_type": "code",
   "execution_count": 13,
   "id": "e3be4c68-e5cc-45e2-a9c6-e26ca520c784",
   "metadata": {},
   "outputs": [
    {
     "data": {
      "text/plain": [
       "_SignatureMap({'action': <ConcreteFunction signature_wrapper(*, 0/step_type, 0/observation, 0/reward, 0/discount) at 0x7FD6FF7094F0>, 'get_initial_state': <ConcreteFunction signature_wrapper(*, batch_size) at 0x7FD6FC5452B0>, 'get_train_step': <ConcreteFunction signature_wrapper() at 0x7FD6FC581370>, 'get_metadata': <ConcreteFunction signature_wrapper() at 0x7FD6FF6E5550>})"
      ]
     },
     "execution_count": 13,
     "metadata": {},
     "output_type": "execute_result"
    }
   ],
   "source": [
    "policy.signatures"
   ]
  },
  {
   "cell_type": "code",
   "execution_count": 23,
   "id": "084f55e7-50ff-46b4-a588-8764ebdcc016",
   "metadata": {},
   "outputs": [],
   "source": [
    "interpreter = tf.lite.Interpreter(model_content=policy_lite)\n",
    "interpreter.allocate_tensors()"
   ]
  },
  {
   "cell_type": "code",
   "execution_count": 31,
   "id": "581d59c2-23f0-482d-9cdb-7aaa1187acb4",
   "metadata": {},
   "outputs": [
    {
     "data": {
      "text/plain": [
       "[{'name': 'action_0/step_type:0',\n",
       "  'index': 0,\n",
       "  'shape': array([1], dtype=int32),\n",
       "  'shape_signature': array([-1], dtype=int32),\n",
       "  'dtype': numpy.int32,\n",
       "  'quantization': (0.0, 0),\n",
       "  'quantization_parameters': {'scales': array([], dtype=float32),\n",
       "   'zero_points': array([], dtype=int32),\n",
       "   'quantized_dimension': 0},\n",
       "  'sparsity_parameters': {}},\n",
       " {'name': 'action_0/discount:0',\n",
       "  'index': 1,\n",
       "  'shape': array([1], dtype=int32),\n",
       "  'shape_signature': array([-1], dtype=int32),\n",
       "  'dtype': numpy.float32,\n",
       "  'quantization': (0.0, 0),\n",
       "  'quantization_parameters': {'scales': array([], dtype=float32),\n",
       "   'zero_points': array([], dtype=int32),\n",
       "   'quantized_dimension': 0},\n",
       "  'sparsity_parameters': {}},\n",
       " {'name': 'action_0/observation:0',\n",
       "  'index': 2,\n",
       "  'shape': array([  1, 100], dtype=int32),\n",
       "  'shape_signature': array([ -1, 100], dtype=int32),\n",
       "  'dtype': numpy.float64,\n",
       "  'quantization': (0.0, 0),\n",
       "  'quantization_parameters': {'scales': array([], dtype=float32),\n",
       "   'zero_points': array([], dtype=int32),\n",
       "   'quantized_dimension': 0},\n",
       "  'sparsity_parameters': {}},\n",
       " {'name': 'action_0/reward:0',\n",
       "  'index': 3,\n",
       "  'shape': array([1], dtype=int32),\n",
       "  'shape_signature': array([-1], dtype=int32),\n",
       "  'dtype': numpy.float32,\n",
       "  'quantization': (0.0, 0),\n",
       "  'quantization_parameters': {'scales': array([], dtype=float32),\n",
       "   'zero_points': array([], dtype=int32),\n",
       "   'quantized_dimension': 0},\n",
       "  'sparsity_parameters': {}}]"
      ]
     },
     "execution_count": 31,
     "metadata": {},
     "output_type": "execute_result"
    }
   ],
   "source": [
    "interpreter.get_input_details()"
   ]
  },
  {
   "cell_type": "code",
   "execution_count": 32,
   "id": "945a158d-8aad-4e1c-93fa-dcc5f079804c",
   "metadata": {},
   "outputs": [
    {
     "data": {
      "text/plain": [
       "[{'name': 'StatefulPartitionedCall:0',\n",
       "  'index': 37,\n",
       "  'shape': array([1], dtype=int32),\n",
       "  'shape_signature': array([-1], dtype=int32),\n",
       "  'dtype': numpy.int32,\n",
       "  'quantization': (0.0, 0),\n",
       "  'quantization_parameters': {'scales': array([], dtype=float32),\n",
       "   'zero_points': array([], dtype=int32),\n",
       "   'quantized_dimension': 0},\n",
       "  'sparsity_parameters': {}}]"
      ]
     },
     "execution_count": 32,
     "metadata": {},
     "output_type": "execute_result"
    }
   ],
   "source": [
    "interpreter.get_output_details()"
   ]
  },
  {
   "cell_type": "code",
   "execution_count": 38,
   "id": "9ec4a9a8-106b-442a-9b3f-2d0cd97a1965",
   "metadata": {},
   "outputs": [],
   "source": [
    "input = interpreter.get_input_details()[2]"
   ]
  },
  {
   "cell_type": "code",
   "execution_count": 40,
   "id": "e9359c89-9f02-42ac-84e6-7b31e8f2efd6",
   "metadata": {},
   "outputs": [],
   "source": [
    "output = interpreter.get_output_details()[0]"
   ]
  },
  {
   "cell_type": "code",
   "execution_count": 70,
   "id": "39c588d0-d552-4dba-ba7d-dedb97eae018",
   "metadata": {},
   "outputs": [],
   "source": [
    "input_data = tf.convert_to_tensor(np.zeros((1,100), dtype=np.float64))"
   ]
  },
  {
   "cell_type": "code",
   "execution_count": 71,
   "id": "e5fabf9a-8e9d-4e27-a32d-053ec7c692ee",
   "metadata": {},
   "outputs": [
    {
     "data": {
      "text/plain": [
       "<tf.Tensor: shape=(1, 100), dtype=float64, numpy=\n",
       "array([[0., 0., 0., 0., 0., 0., 0., 0., 0., 0., 0., 0., 0., 0., 0., 0.,\n",
       "        0., 0., 0., 0., 0., 0., 0., 0., 0., 0., 0., 0., 0., 0., 0., 0.,\n",
       "        0., 0., 0., 0., 0., 0., 0., 0., 0., 0., 0., 0., 0., 0., 0., 0.,\n",
       "        0., 0., 0., 0., 0., 0., 0., 0., 0., 0., 0., 0., 0., 0., 0., 0.,\n",
       "        0., 0., 0., 0., 0., 0., 0., 0., 0., 0., 0., 0., 0., 0., 0., 0.,\n",
       "        0., 0., 0., 0., 0., 0., 0., 0., 0., 0., 0., 0., 0., 0., 0., 0.,\n",
       "        0., 0., 0., 0.]])>"
      ]
     },
     "execution_count": 71,
     "metadata": {},
     "output_type": "execute_result"
    }
   ],
   "source": [
    "input_data"
   ]
  },
  {
   "cell_type": "code",
   "execution_count": 72,
   "id": "5f3456b5-9177-4e87-8ed6-0f67a7d3c409",
   "metadata": {},
   "outputs": [],
   "source": [
    "interpreter.set_tensor(input['index'], input_data)"
   ]
  },
  {
   "cell_type": "code",
   "execution_count": 73,
   "id": "5dac6b8c-3605-495c-a66e-0357c230a1b6",
   "metadata": {},
   "outputs": [],
   "source": [
    "interpreter.invoke()"
   ]
  },
  {
   "cell_type": "code",
   "execution_count": 74,
   "id": "c06741fb-2cbc-4714-bf6d-c4970d999f0b",
   "metadata": {},
   "outputs": [
    {
     "data": {
      "text/plain": [
       "array([0], dtype=int32)"
      ]
     },
     "execution_count": 74,
     "metadata": {},
     "output_type": "execute_result"
    }
   ],
   "source": [
    "interpreter.get_tensor(output['index'])"
   ]
  },
  {
   "cell_type": "code",
   "execution_count": null,
   "id": "f66b1bbf-8f9d-49d8-8c2b-3dae77869b06",
   "metadata": {},
   "outputs": [],
   "source": []
  }
 ],
 "metadata": {
  "kernelspec": {
   "display_name": "Python 3",
   "language": "python",
   "name": "python3"
  },
  "language_info": {
   "codemirror_mode": {
    "name": "ipython",
    "version": 3
   },
   "file_extension": ".py",
   "mimetype": "text/x-python",
   "name": "python",
   "nbconvert_exporter": "python",
   "pygments_lexer": "ipython3",
   "version": "3.8.11"
  }
 },
 "nbformat": 4,
 "nbformat_minor": 5
}
