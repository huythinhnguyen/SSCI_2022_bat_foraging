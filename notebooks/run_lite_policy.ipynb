{
 "cells": [
  {
   "cell_type": "code",
   "execution_count": 1,
   "id": "457eb872-61f4-45c0-b155-ee173a4d818e",
   "metadata": {},
   "outputs": [],
   "source": [
    "import tensorflow as tf\n",
    "import numpy as np\n",
    "from matplotlib import pyplot as plt\n",
    "import os\n",
    "import pandas as pd\n",
    "from tf_agents.environments import tf_py_environment"
   ]
  },
  {
   "cell_type": "code",
   "execution_count": 2,
   "id": "0bbbe2c4-448b-4687-92a7-ff58da4403ce",
   "metadata": {},
   "outputs": [],
   "source": [
    "policy_lite_dir = os.path.join(os.getcwd(), 'lite_policy.tflite')"
   ]
  },
  {
   "cell_type": "code",
   "execution_count": 3,
   "id": "f164d972-a9f1-4f18-8053-564b526aa108",
   "metadata": {},
   "outputs": [],
   "source": [
    "interpreter = tf.lite.Interpreter(policy_lite_dir)"
   ]
  },
  {
   "cell_type": "code",
   "execution_count": 20,
   "id": "6506da7f-5e69-405a-8075-a5025c84a15c",
   "metadata": {},
   "outputs": [],
   "source": [
    "interpreter.allocate_tensors()"
   ]
  },
  {
   "cell_type": "code",
   "execution_count": 16,
   "id": "e4024353-555f-42e1-b4fb-fe8e2f7546ba",
   "metadata": {},
   "outputs": [],
   "source": [
    "output = interpreter.get_output_details()[0]"
   ]
  },
  {
   "cell_type": "code",
   "execution_count": 15,
   "id": "3b7bcf3f-1bb9-4056-9762-873247cff7d9",
   "metadata": {},
   "outputs": [],
   "source": [
    "input = interpreter.get_input_details()[2]"
   ]
  },
  {
   "cell_type": "code",
   "execution_count": 46,
   "id": "a6daeee1-70b5-4026-ad02-9093f230c88e",
   "metadata": {},
   "outputs": [],
   "source": [
    "dummy_data = tf.convert_to_tensor(df.loc[0]['echoes'][1].reshape(1,100))"
   ]
  },
  {
   "cell_type": "code",
   "execution_count": 47,
   "id": "154172f0-4aff-4ca0-8c5d-a95058c87266",
   "metadata": {},
   "outputs": [],
   "source": [
    "interpreter.set_tensor(input['index'], dummy_data)\n",
    "interpreter.invoke()\n",
    "dummy_out = interpreter.get_tensor(output['index'])"
   ]
  },
  {
   "cell_type": "code",
   "execution_count": 48,
   "id": "d87dcd50-1e91-414f-ba3a-15025465758c",
   "metadata": {},
   "outputs": [
    {
     "data": {
      "text/plain": [
       "1"
      ]
     },
     "execution_count": 48,
     "metadata": {},
     "output_type": "execute_result"
    }
   ],
   "source": [
    "dummy_out[0]"
   ]
  },
  {
   "cell_type": "code",
   "execution_count": 24,
   "id": "f8128659-46bd-44c5-83de-dc13bc995701",
   "metadata": {},
   "outputs": [],
   "source": [
    "df = pd.read_pickle(os.path.join(os.getcwd(), 'run_11.06.2021.A.pkl'))"
   ]
  },
  {
   "cell_type": "code",
   "execution_count": 43,
   "id": "a298363a-b5e9-4725-9062-b82dbc24f1d5",
   "metadata": {},
   "outputs": [
    {
     "data": {
      "text/plain": [
       "(100,)"
      ]
     },
     "execution_count": 43,
     "metadata": {},
     "output_type": "execute_result"
    }
   ],
   "source": [
    "df.loc[0]['echoes'][1].shape"
   ]
  },
  {
   "cell_type": "code",
   "execution_count": 36,
   "id": "1b23de89-02d0-482c-89ba-9445c4603c9a",
   "metadata": {},
   "outputs": [
    {
     "data": {
      "text/plain": [
       "episodes                                                        1\n",
       "obstacles       [[-5.0, -6.123233995736766e-16, 2.0], [-4.9824...\n",
       "scores                                                          1\n",
       "returns                                                       2.0\n",
       "bats            [[-0.08098526583454785, -6.506726828792355, -5...\n",
       "foods           [[6.272918208198443, 2.3287290973947203], [6.2...\n",
       "echoes          [[0.0, 0.0, 0.0, 0.0, 0.0, 0.0, 0.0, 0.0, 0.0,...\n",
       "strategies      [[0.0], [1.0], [0.0], [0.0], [0.0], [0.0], [0....\n",
       "iids            [[0.011172791471803153], [-10.0], [-8.31416657...\n",
       "moves           [[0.05], [0.05], [0.05], [0.05], [0.05], [0.05...\n",
       "turns           [[0.5515266409607245], [-20.0], [4.99999999999...\n",
       "value_layers    [[46.144569396972656, 46.06161880493164], [45....\n",
       "Name: 0, dtype: object"
      ]
     },
     "execution_count": 36,
     "metadata": {},
     "output_type": "execute_result"
    }
   ],
   "source": [
    "df.loc[0]"
   ]
  },
  {
   "cell_type": "code",
   "execution_count": 89,
   "id": "a2ad9d2e-008a-4c88-a81b-e6c1b579fbf5",
   "metadata": {},
   "outputs": [],
   "source": [
    "echoes_samples = df.loc[2]['echoes']\n",
    "strategies = df.loc[2]['strategies']\n",
    "value_layers = df.loc[2]['value_layers']"
   ]
  },
  {
   "cell_type": "code",
   "execution_count": 90,
   "id": "95ad38ba-0c81-420f-a013-7b8cf8d6dd29",
   "metadata": {},
   "outputs": [
    {
     "data": {
      "text/plain": [
       "224"
      ]
     },
     "execution_count": 90,
     "metadata": {},
     "output_type": "execute_result"
    }
   ],
   "source": [
    "len(echoes_samples)"
   ]
  },
  {
   "cell_type": "code",
   "execution_count": 91,
   "id": "3a8e2790-64f4-4e92-8cd7-70dab50d0ebd",
   "metadata": {},
   "outputs": [],
   "source": [
    "lite_strategies = []\n",
    "for i in range(len(echoes_samples)):\n",
    "    input_data = tf.convert_to_tensor(df.loc[2]['echoes'][i].reshape(1,100))\n",
    "    interpreter.set_tensor(input['index'], input_data)\n",
    "    interpreter.invoke()\n",
    "    output_data = interpreter.get_tensor(output['index'])\n",
    "    lite_strategies.append(output_data[0])"
   ]
  },
  {
   "cell_type": "code",
   "execution_count": 92,
   "id": "4804a417-4e45-4fe0-9863-7138a3e9d8a0",
   "metadata": {},
   "outputs": [],
   "source": [
    "lite_strategies = np.array(lite_strategies).reshape(-1,1)"
   ]
  },
  {
   "cell_type": "code",
   "execution_count": 93,
   "id": "fa4c36a9-8f66-472e-9918-9dbc41c6a004",
   "metadata": {},
   "outputs": [
    {
     "data": {
      "text/plain": [
       "224"
      ]
     },
     "execution_count": 93,
     "metadata": {},
     "output_type": "execute_result"
    }
   ],
   "source": [
    "np.sum(strategies ==  lite_strategies)"
   ]
  },
  {
   "cell_type": "code",
   "execution_count": null,
   "id": "c00938e9-fce2-4e8c-a7eb-f567bc96915b",
   "metadata": {},
   "outputs": [],
   "source": []
  }
 ],
 "metadata": {
  "kernelspec": {
   "display_name": "Python 3",
   "language": "python",
   "name": "python3"
  },
  "language_info": {
   "codemirror_mode": {
    "name": "ipython",
    "version": 3
   },
   "file_extension": ".py",
   "mimetype": "text/x-python",
   "name": "python",
   "nbconvert_exporter": "python",
   "pygments_lexer": "ipython3",
   "version": "3.8.11"
  }
 },
 "nbformat": 4,
 "nbformat_minor": 5
}
